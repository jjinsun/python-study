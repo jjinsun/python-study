{
 "cells": [
  {
   "cell_type": "code",
   "execution_count": null,
   "id": "35d423d0",
   "metadata": {},
   "outputs": [
    {
     "ename": "SyntaxError",
     "evalue": "illegal target for annotation (2793010584.py, line 3)",
     "output_type": "error",
     "traceback": [
      "\u001b[0;36m  Cell \u001b[0;32mIn[12], line 3\u001b[0;36m\u001b[0m\n\u001b[0;31m    print(\"Hello world\") : 일시적으로 코드를 비활성화 할 때 사용\u001b[0m\n\u001b[0m    ^\u001b[0m\n\u001b[0;31mSyntaxError\u001b[0m\u001b[0;31m:\u001b[0m illegal target for annotation\n"
     ]
    }
   ],
   "source": [
    "# 이렇게 작성해요\n",
    "# 단축키는 command + /\n",
    "print(\"Hello world\") : 일시적으로 코드를 비활성화 할 때 사용\n",
    "\n",
    "# 출력 : print 함수\n",
    "# 내가 작성한 코드가 잘 작성됐는지 확인할 때 사용\n"
   ]
  },
  {
   "cell_type": "markdown",
   "id": "e36f2614",
   "metadata": {},
   "source": [
    "### 주석 : 코드에 대한 설명을 작성하는 텍스트\n",
    "프로그램 실행에 영향을 주지 않는다.\n"
   ]
  },
  {
   "cell_type": "code",
   "execution_count": null,
   "id": "18e00e2c",
   "metadata": {},
   "outputs": [],
   "source": [
    "1. 변수\n",
    "- 변수 : 자료를 저장하는 공간\n",
    "- 선언 : 변수를 만드는 것 \n",
    "- 할당 : 변수에 값을 저장하는 것 \n",
    "- 초기화 : 처음으로 변수에 값을 할당하는 것 \n",
    "- = : 대입 연산자, **등호가 아님!!** (같다 > ==)\n",
    " - 변수에 값을 저장한다(할당한다)는 의미"
   ]
  },
  {
   "cell_type": "code",
   "execution_count": null,
   "id": "20040470",
   "metadata": {},
   "outputs": [
    {
     "name": "stdout",
     "output_type": "stream",
     "text": [
      "저장할자료\n"
     ]
    }
   ],
   "source": [
    "# 변수의 선언과 할당\n",
    "변수이름 = \"저장할자료\"\n",
    "print(변수이름)\n",
    "print(변수이름)"
   ]
  },
  {
   "cell_type": "code",
   "execution_count": 4,
   "id": "23157dfd",
   "metadata": {},
   "outputs": [
    {
     "ename": "SyntaxError",
     "evalue": "cannot assign to literal (3941295262.py, line 1)",
     "output_type": "error",
     "traceback": [
      "\u001b[0;36m  Cell \u001b[0;32mIn[4], line 1\u001b[0;36m\u001b[0m\n\u001b[0;31m    50 = 100\u001b[0m\n\u001b[0m    ^\u001b[0m\n\u001b[0;31mSyntaxError\u001b[0m\u001b[0;31m:\u001b[0m cannot assign to literal\n"
     ]
    }
   ],
   "source": [
    "50 = 100\n",
    "print = 100\n"
   ]
  },
  {
   "cell_type": "markdown",
   "id": "f0e9f734",
   "metadata": {},
   "source": [
    "SyntaxError: 문법 오류\n",
    "띄어쓰기 안됨.\n",
    "여러단어 사용할때 단어 구분은 언더바(_)사용.\n"
   ]
  },
  {
   "cell_type": "code",
   "execution_count": null,
   "id": "e235cc3f",
   "metadata": {},
   "outputs": [],
   "source": [
    "# 에러가 발생한 변수명\n",
    "1st_place = \"Gold\" \n",
    "# 수정코드 \n",
    "fisrt_place = \"Gold\"\n",
    "\n",
    "# 에러가 발생한 변수명\n",
    "user name = \"Alice\" \n",
    "# 수정코드\n",
    "user_name = \"Alice\"\n",
    "\n",
    "# 에러가 발생한 변수명\n",
    "class = \"Math\"\n",
    "# 수정코드\n",
    "class_name = \"math\""
   ]
  },
  {
   "cell_type": "markdown",
   "id": "9c60ebe1",
   "metadata": {},
   "source": [
    "언더바(_)를 사용 하지 않고 띄어쓰기 오류를 범함."
   ]
  },
  {
   "cell_type": "code",
   "execution_count": null,
   "id": "f9d01142",
   "metadata": {},
   "outputs": [],
   "source": [
    "1️⃣\n",
    "# 소문자 : 변수,함수명\n",
    "my_variable_name = 10\n",
    "\n",
    "# 대문자 : 상수\n",
    "MY_VARIABLE_NAME = 100\n",
    "\n",
    "2️⃣\n",
    "clas MyClassName\n",
    "S # ...\n",
    "\n",
    "3️⃣ \n",
    "myVariableName + 10"
   ]
  },
  {
   "cell_type": "markdown",
   "id": "f6311f7a",
   "metadata": {},
   "source": [
    "1️⃣ 스네이크 케이스 (Snake Case) 파이썬은 주로 스네이크 케이스 사용\n",
    "• 모든단어를_로연결\n",
    "• 사용예:변수,함수명,상수등\n",
    "\n",
    "2️⃣ 파스칼 케이스 (Pascal Case) \n",
    "• 모든단어의첫글자를대문자로시작 \n",
    "• 사용 예: 클래스\n",
    "\n",
    "3️⃣ 카멜 케이스 (Camel Case) C , jaba언어애서 많이 쓴다.\n",
    "• 첫 단어는 소문자, 이후 단어는 대문자로 시작 \n",
    "• 사용 예: 변수, 함수명"
   ]
  },
  {
   "cell_type": "code",
   "execution_count": 6,
   "id": "f4cc7b01",
   "metadata": {},
   "outputs": [
    {
     "name": "stdout",
     "output_type": "stream",
     "text": [
      "반갑습니다\n"
     ]
    }
   ],
   "source": [
    "# 변수의 특징\n",
    "# 저장한 값을 바꿀 수 있다.\n",
    "# 단, 한번에 하나씩만 저장된다.\n",
    "인사 = \"안녕하세요\"\n",
    "인사 = \"반갑습니다\"\n",
    "print(인사)\n",
    "\n",
    "# 파이썬에서 변수는 선언과 함께 초기화를 해줘야함\n",
    "# 새로운변수 (X)\n",
    "새로운변수 = \"선언과 함께 초기화\""
   ]
  },
  {
   "cell_type": "markdown",
   "id": "38a3e49e",
   "metadata": {},
   "source": [
    "변수는 한번에 하나만 저장, 이전에 저장한 것은 날아가고, 최신 저장한것만 저장됨"
   ]
  },
  {
   "cell_type": "code",
   "execution_count": 8,
   "id": "08e87d3a",
   "metadata": {},
   "outputs": [
    {
     "name": "stdout",
     "output_type": "stream",
     "text": [
      "1 2 3\n",
      "20 10\n"
     ]
    }
   ],
   "source": [
    "# 한 줄에 여러 변수 만들기\n",
    "a = 1\n",
    "b = 2\n",
    "c = 3\n",
    "\n",
    "a, b, c = 1, 2, 3\n",
    "\n",
    "print(a,b,c)\n",
    "\n",
    "x = 10\n",
    "y = 20\n",
    "\n",
    "x, y = y, x\n",
    "print(x, y)\n",
    "\n"
   ]
  },
  {
   "cell_type": "markdown",
   "id": "9ac10f39",
   "metadata": {},
   "source": [
    "한줄로 선언, 순서대로 대입이 된다. / 변수 값을 교환할 수 있다.\n",
    "> 사람과 협업할 때 가독성이 더 좋은것을 선택하면 된다.(상황에 따라서)\n",
    "> 즉, 코드의 가독성을 해치지 않는 범위에서 사용!"
   ]
  },
  {
   "cell_type": "code",
   "execution_count": null,
   "id": "618ea313",
   "metadata": {},
   "outputs": [
    {
     "ename": "SyntaxError",
     "evalue": "invalid syntax (2970300554.py, line 1)",
     "output_type": "error",
     "traceback": [
      "\u001b[0;36m  Cell \u001b[0;32mIn[10], line 1\u001b[0;36m\u001b[0m\n\u001b[0;31m    print(\"안녕하세요\") print(\"반갑습니다\")\u001b[0m\n\u001b[0m                   ^\u001b[0m\n\u001b[0;31mSyntaxError\u001b[0m\u001b[0;31m:\u001b[0m invalid syntax\n"
     ]
    }
   ],
   "source": [
    "print(\"안녕하세요\") print(\"반갑습니다\")\n"
   ]
  },
  {
   "cell_type": "markdown",
   "id": "bbf62ecc",
   "metadata": {},
   "source": [
    "하나의 함수가 하나의 문장이기때문에 \n",
    "다음 문장을 쓸 때는 엔터를 해서 줄을 바꿔야 한다.\n",
    "> 파이썬은 엔터로 문장과 문장을 구분한다."
   ]
  },
  {
   "cell_type": "code",
   "execution_count": 11,
   "id": "53664a67",
   "metadata": {},
   "outputs": [
    {
     "name": "stdout",
     "output_type": "stream",
     "text": [
      "안녕하세요\n",
      "반갑습니다\n"
     ]
    }
   ],
   "source": [
    "print(\"안녕하세요\") \n",
    "print(\"반갑습니다\")"
   ]
  }
 ],
 "metadata": {
  "kernelspec": {
   "display_name": "python-study",
   "language": "python",
   "name": "python3"
  },
  "language_info": {
   "codemirror_mode": {
    "name": "ipython",
    "version": 3
   },
   "file_extension": ".py",
   "mimetype": "text/x-python",
   "name": "python",
   "nbconvert_exporter": "python",
   "pygments_lexer": "ipython3",
   "version": "3.9.6"
  }
 },
 "nbformat": 4,
 "nbformat_minor": 5
}
