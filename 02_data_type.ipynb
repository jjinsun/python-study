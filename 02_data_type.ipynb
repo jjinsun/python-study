{
 "cells": [
  {
   "cell_type": "markdown",
   "id": "63ba000e",
   "metadata": {},
   "source": [
    "### 2. 자료형(Data type)\n",
    "- 자료의 종류와 구조를 정의하는 것"
   ]
  },
  {
   "cell_type": "code",
   "execution_count": 1,
   "id": "afe4939d",
   "metadata": {},
   "outputs": [
    {
     "name": "stdout",
     "output_type": "stream",
     "text": [
      "300\n",
      "100200\n"
     ]
    }
   ],
   "source": [
    "print(100 + 200)\n",
    "print(\"100\" + \"200\")\n"
   ]
  },
  {
   "cell_type": "markdown",
   "id": "522c163b",
   "metadata": {},
   "source": [
    "자료의 형태와 구조를 따로 정의를 해둠\n",
    "print(100 + 200) : 100, 200을 숫자로 봄\n",
    "print(\"100\" + \"200\") : 100,200을 글자로 봄"
   ]
  },
  {
   "cell_type": "code",
   "execution_count": 14,
   "id": "87047bb7",
   "metadata": {},
   "outputs": [],
   "source": [
    "# 문자열(string, str)\n",
    "my_str1 = \"\" #빈문자영(o)\n",
    "my_str2 = \" \" #공백문자열(o)\n",
    "my_str3 = \"안녕하세요\" #\"요하녕안세\" ➡️ 문자열은 '순서각 있는 자료형'\n",
    "\n"
   ]
  },
  {
   "cell_type": "markdown",
   "id": "4788ec99",
   "metadata": {},
   "source": [
    "\"\" 만 저장 가능: 빈 문자열\n",
    "\"띄어쓰기\" 저장 가능 : 공백 문자열\n",
    "큰 따움표(\"\"), 작은 따움표(\")는 같다. > 편한걸로 쓰면된다."
   ]
  },
  {
   "cell_type": "code",
   "execution_count": 11,
   "id": "6fe36aea",
   "metadata": {},
   "outputs": [
    {
     "name": "stdout",
     "output_type": "stream",
     "text": [
      "코: 코딩을 한다\n",
      "딩 : 딩딩딩 머리가 울린다\n",
      "온 : 온제 끝나나\n",
      "\n",
      "코: 코딩을 한다\n",
      "딩: 딩딩딩 머라가 울린다\n",
      "온제 끝나나\n"
     ]
    }
   ],
   "source": [
    "# 문자열 여러줄로 만들기\n",
    "multi_str = \"\"\"코: 코딩을 한다\n",
    "딩 : 딩딩딩 머리가 울린다\n",
    "온 : 온제 끝나나\n",
    "\"\"\"\n",
    "\n",
    "print(multi_str)\n",
    "\n",
    "print(\"코: 코딩을 한다\")\n",
    "print(\"딩: 딩딩딩 머라가 울린다\")\n",
    "print(\"온제 끝나나\")\n"
   ]
  },
  {
   "cell_type": "markdown",
   "id": "155658ba",
   "metadata": {},
   "source": [
    "\"\"\" \"\"\" : 큰따움표를 세개 쓴다.\n",
    "\"지식\"은 우정을 대신하지 않아"
   ]
  },
  {
   "cell_type": "code",
   "execution_count": 4,
   "id": "c461c8e9",
   "metadata": {},
   "outputs": [
    {
     "ename": "SyntaxError",
     "evalue": "invalid syntax (3073949203.py, line 2)",
     "output_type": "error",
     "traceback": [
      "\u001b[0;36m  Cell \u001b[0;32mIn[4], line 2\u001b[0;36m\u001b[0m\n\u001b[0;31m    print(''지식'은 우정을 대신하지 않아')\u001b[0m\n\u001b[0m            ^\u001b[0m\n\u001b[0;31mSyntaxError\u001b[0m\u001b[0;31m:\u001b[0m invalid syntax\n"
     ]
    }
   ],
   "source": [
    "# 따움표 속에 따움표 쓰기\n",
    "print(''지식'은 우정을 대신하지 않아')\n"
   ]
  },
  {
   "cell_type": "code",
   "execution_count": null,
   "id": "9a313fa4",
   "metadata": {},
   "outputs": [
    {
     "name": "stdout",
     "output_type": "stream",
     "text": [
      "'지식'은 우정을 대신하지 않아\n"
     ]
    }
   ],
   "source": [
    "print(\"'지식'은 우정을 대신하지 않아\") #안에 작은 따움표, 밖에 큰 따움표\n"
   ]
  },
  {
   "cell_type": "code",
   "execution_count": null,
   "id": "c196546b",
   "metadata": {},
   "outputs": [
    {
     "name": "stdout",
     "output_type": "stream",
     "text": [
      "\"지식\"은 우정을 대신하지 않아\n"
     ]
    }
   ],
   "source": [
    "print('\"지식\"은 우정을 대신하지 않아') #안에 큰 따움표, 밖애 작은 따움표\n"
   ]
  },
  {
   "cell_type": "code",
   "execution_count": 7,
   "id": "8b7b2528",
   "metadata": {},
   "outputs": [
    {
     "name": "stdout",
     "output_type": "stream",
     "text": [
      "<class 'int'>\n"
     ]
    }
   ],
   "source": [
    "# 2. 정수형(integer, int)\n",
    "# 파이썬은 크기 제한이 없음 -대부분 다른 언어는 제한이 있음 (단, 이론상 메모리의 용량의 한계까지/ 거의 없는 거나 마찬가지)\n",
    "my_int1 = 100 # 담백하게 숫자만 딱 쓴다.\n",
    "my_int1 = 100485974574503454857495703589843759759578 #숫자 제한 없음\n",
    "print(type(my_int1))"
   ]
  },
  {
   "cell_type": "markdown",
   "id": "2f207c21",
   "metadata": {},
   "source": [
    "정수(int)"
   ]
  },
  {
   "cell_type": "code",
   "execution_count": 13,
   "id": "77ca1b47",
   "metadata": {},
   "outputs": [
    {
     "name": "stdout",
     "output_type": "stream",
     "text": [
      "<class 'float'>\n"
     ]
    },
    {
     "data": {
      "text/plain": [
       "314.15"
      ]
     },
     "execution_count": 13,
     "metadata": {},
     "output_type": "execute_result"
    }
   ],
   "source": [
    "# 3. 실수형(float)\n",
    "# 부동소수점 방식 (부동: 둥둥 떠다닌다.)\n",
    "my_float1 = 100.0\n",
    "my_float2 = 3.14\n",
    "print(type(my_float1))\n",
    "\n",
    "3.14\n",
    "3.141592\n",
    "31.145\n",
    "314.15"
   ]
  },
  {
   "cell_type": "markdown",
   "id": "9f7c5440",
   "metadata": {},
   "source": [
    "실수(float)"
   ]
  },
  {
   "cell_type": "markdown",
   "id": "f970f060",
   "metadata": {},
   "source": [
    "정수에는 실수를 포함하지 않고 소숫점뒤는 둥둥 떠다닌다라고 샹각.\n",
    "float : 부동소수점 숫자 (소수점 포함)\n",
    "부동소수점 : 소수점의 위치를 고정하지 않고 그 위치를 나타내는 수를 따로 적는 것\n",
    "\n",
    ">int는 소수점이 없는 숫자를 표현하는 자료형이고 \n",
    ">float는 소수점이 있는 숫자를 표현한다."
   ]
  },
  {
   "cell_type": "code",
   "execution_count": 10,
   "id": "a996c9dc",
   "metadata": {},
   "outputs": [
    {
     "name": "stdout",
     "output_type": "stream",
     "text": [
      "True\n",
      "False\n",
      "<class 'bool'>\n",
      "<class 'bool'>\n"
     ]
    }
   ],
   "source": [
    "# 4. 논리형(boolean, bool)\n",
    "# 참과 거짓을 표현하는 자료형 (0: 거짓, 1: 참)\n",
    "print(True)\n",
    "print(False)\n",
    "print(type(True))\n",
    "print(type(False))\n"
   ]
  }
 ],
 "metadata": {
  "kernelspec": {
   "display_name": "python-study",
   "language": "python",
   "name": "python3"
  },
  "language_info": {
   "codemirror_mode": {
    "name": "ipython",
    "version": 3
   },
   "file_extension": ".py",
   "mimetype": "text/x-python",
   "name": "python",
   "nbconvert_exporter": "python",
   "pygments_lexer": "ipython3",
   "version": "3.9.6"
  }
 },
 "nbformat": 4,
 "nbformat_minor": 5
}
