{
 "cells": [
  {
   "cell_type": "code",
   "execution_count": null,
   "id": "35d423d0",
   "metadata": {},
   "outputs": [],
   "source": [
    "# 이렇게 작성해요\n",
    "# 단축키는 command + /"
   ]
  },
  {
   "cell_type": "code",
   "execution_count": null,
   "id": "1b97cb3d",
   "metadata": {},
   "outputs": [],
   "source": []
  },
  {
   "cell_type": "code",
   "execution_count": null,
   "id": "f280a47e",
   "metadata": {},
   "outputs": [],
   "source": []
  },
  {
   "cell_type": "markdown",
   "id": "8d5f7b6f",
   "metadata": {},
   "source": []
  },
  {
   "cell_type": "code",
   "execution_count": null,
   "id": "dcab51b6",
   "metadata": {},
   "outputs": [],
   "source": []
  },
  {
   "cell_type": "code",
   "execution_count": null,
   "id": "a0d15bfb",
   "metadata": {},
   "outputs": [],
   "source": []
  },
  {
   "cell_type": "code",
   "execution_count": null,
   "id": "f358a1fa",
   "metadata": {},
   "outputs": [],
   "source": []
  },
  {
   "cell_type": "markdown",
   "id": "fe92d59d",
   "metadata": {},
   "source": []
  },
  {
   "cell_type": "markdown",
   "id": "e36f2614",
   "metadata": {},
   "source": [
    "### 주석 : 코드에 대한 설명을 작성하는 텍스트\n",
    "프로그램 실행에 영향을 주지 않는다.\n"
   ]
  },
  {
   "cell_type": "code",
   "execution_count": null,
   "id": "ff3f874f",
   "metadata": {},
   "outputs": [],
   "source": []
  },
  {
   "cell_type": "code",
   "execution_count": null,
   "id": "6b4c8145",
   "metadata": {},
   "outputs": [],
   "source": []
  },
  {
   "cell_type": "code",
   "execution_count": null,
   "id": "a07676cf",
   "metadata": {},
   "outputs": [],
   "source": []
  },
  {
   "cell_type": "code",
   "execution_count": null,
   "id": "b2dd1046",
   "metadata": {},
   "outputs": [],
   "source": []
  },
  {
   "cell_type": "markdown",
   "id": "e25b713d",
   "metadata": {},
   "source": []
  },
  {
   "cell_type": "code",
   "execution_count": null,
   "id": "8c299ee6",
   "metadata": {},
   "outputs": [],
   "source": []
  },
  {
   "cell_type": "markdown",
   "id": "8dfb0148",
   "metadata": {},
   "source": []
  },
  {
   "cell_type": "code",
   "execution_count": null,
   "id": "7da14a96",
   "metadata": {},
   "outputs": [],
   "source": [
    "print(\":hhhh\")"
   ]
  },
  {
   "cell_type": "code",
   "execution_count": null,
   "id": "18e00e2c",
   "metadata": {},
   "outputs": [],
   "source": [
    "1. 변수"
   ]
  }
 ],
 "metadata": {
  "kernelspec": {
   "display_name": "python-study",
   "language": "python",
   "name": "python3"
  },
  "language_info": {
   "codemirror_mode": {
    "name": "ipython",
    "version": 3
   },
   "file_extension": ".py",
   "mimetype": "text/x-python",
   "name": "python",
   "nbconvert_exporter": "python",
   "pygments_lexer": "ipython3",
   "version": "3.9.6"
  }
 },
 "nbformat": 4,
 "nbformat_minor": 5
}
